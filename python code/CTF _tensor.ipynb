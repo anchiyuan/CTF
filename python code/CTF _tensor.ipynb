{
 "cells": [
  {
   "cell_type": "code",
   "execution_count": null,
   "metadata": {},
   "outputs": [],
   "source": [
    "%reset -f\n",
    "import numpy as np\n",
    "import matplotlib.pyplot as plt\n",
    "import pyroomacoustics as pra\n",
    "import librosa\n",
    "import librosa.display\n",
    "from matplotlib import cm\n",
    "import time\n",
    "import torch\n",
    "\n",
    "device = torch.device('cuda' if torch.cuda.is_available() else 'cpu')\n",
    "print(device)"
   ]
  },
  {
   "attachments": {},
   "cell_type": "markdown",
   "metadata": {},
   "source": [
    "## RIR parameter"
   ]
  },
  {
   "cell_type": "code",
   "execution_count": null,
   "metadata": {},
   "outputs": [],
   "source": [
    "SorNum = 1\n",
    "MicNum = 30\n",
    "c = 343\n",
    "fs = 16000\n",
    "Ts = 1/fs\n",
    "# UCA #\n",
    "# radius_UCA = 0.5\n",
    "# angle_step = 360/MicNum\n",
    "# MicCenter = [1, 3, 1]    # 麥克風陣列中心點\n",
    "# MicPos = np.zeros((3, MicNum))\n",
    "# for mic_num in range(MicNum) :\n",
    "#     MicPos[:, mic_num] = np.array([MicCenter[0] + radius_UCA*np.cos(angle_step*mic_num*np.pi/180), MicCenter[1] + radius_UCA*np.sin(angle_step*mic_num*np.pi/180), MicCenter[2]])\n",
    "\n",
    "# ULA #\n",
    "MicStart = [1, 1.5, 1]\n",
    "spacing = 0.02\n",
    "MicPos = np.zeros((3, MicNum))\n",
    "for mic_num in range(MicNum) :\n",
    "    MicPos[:, mic_num] = np.array([MicStart[0] + mic_num*spacing, MicStart[1], MicStart[2]])\n",
    "\n",
    "SorPos = [2, 2.5, 1]\n",
    "room_dim = [5, 6, 2.4]\n",
    "reverberation_time = 0.2    # T60\n",
    "points_rir = 4096\n",
    "dim = 3\n",
    "orientation = [0, 90]    # [水平 垂直]\n",
    "\n",
    "# 畫空間圖 #\n",
    "fig1 = plt.figure()\n",
    "ax1 = fig1.add_subplot(projection='3d')\n",
    "for mic_num in range(MicNum) :\n",
    "    ax1.scatter(MicPos[0, mic_num], MicPos[1, mic_num], MicPos[2, mic_num], c='r', marker='o')\n",
    "\n",
    "ax1.scatter(SorPos[0], SorPos[1], SorPos[2], c='b', marker='x')\n",
    "ax1.set_xlim((0, room_dim[0]))\n",
    "ax1.set_ylim((0, room_dim[1]))\n",
    "ax1.set_zlim((0, room_dim[2]))\n",
    "ax1.set_title('geometry plot')\n",
    "ax1.set_xlabel('x-axis')\n",
    "ax1.set_ylabel('y-axis')\n",
    "ax1.set_zlabel('z-axis')"
   ]
  },
  {
   "attachments": {},
   "cell_type": "markdown",
   "metadata": {},
   "source": [
    "## generate RIR"
   ]
  },
  {
   "cell_type": "code",
   "execution_count": null,
   "metadata": {},
   "outputs": [],
   "source": [
    "# 產生 RIR #\n",
    "e_absorption, max_order = pra.inverse_sabine(reverberation_time, room_dim)\n",
    "room = pra.ShoeBox(room_dim, fs=fs, materials=pra.Material(e_absorption), max_order=max_order)\n",
    "\n",
    "from pyroomacoustics.directivities import (\n",
    "    DirectivityPattern,\n",
    "    DirectionVector,\n",
    "    CardioidFamily\n",
    ")\n",
    "\n",
    "dir_mic = CardioidFamily(\n",
    "    orientation=DirectionVector(azimuth=orientation[0], colatitude=orientation[1], degrees=True),\n",
    "    pattern_enum=DirectivityPattern.OMNI\n",
    ")\n",
    "\n",
    "room.add_source(position=SorPos)\n",
    "room.add_microphone(loc=MicPos, directivity=dir_mic)\n",
    "room.compute_rir()\n",
    "h = np.zeros((MicNum, points_rir))\n",
    "for mic_num in range(MicNum) :\n",
    "    h[mic_num, :] = room.rir[mic_num][0][0:points_rir]     \n",
    "\n",
    "# 畫 ground-truth RIR time plot #\n",
    "look_mic = 5\n",
    "fig2 = plt.figure(figsize=(10, 5))\n",
    "ax2 = fig2.add_subplot()\n",
    "ax2.plot(h[look_mic, :])\n",
    "h_yaxis_upperlimit = np.max(h[look_mic]) + 0.025\n",
    "h_yaxis_underlimit = np.min(h[look_mic]) - 0.025\n",
    "ax2.set_ylim((h_yaxis_underlimit, h_yaxis_upperlimit))\n",
    "ax2.set_title('h')\n",
    "ax2.set_xlabel('points')\n",
    "ax2.set_ylabel('magnitude')\n",
    "plt.show()"
   ]
  },
  {
   "attachments": {},
   "cell_type": "markdown",
   "metadata": {},
   "source": [
    "## 讀音檔 or 產生 white noise source"
   ]
  },
  {
   "cell_type": "code",
   "execution_count": null,
   "metadata": {},
   "outputs": [],
   "source": [
    "Second = 20\n",
    "SorLen =  Second*fs\n",
    "\n",
    "# load source #\n",
    "source, fs= librosa.load('245.wav', sr=fs, mono=True, offset=0.0, duration=Second, dtype=np.float32)    # audio source\n",
    "# source = np.random.normal(0, 1, size=SorLen)                                                            # white noise source\n",
    "\n",
    "# 畫 ground-truth source time plot #\n",
    "fig3 = plt.figure(figsize=(10, 5))\n",
    "ax3 = fig3.add_subplot()\n",
    "ax3.plot(source)\n",
    "ax3.set_title('source')\n",
    "ax3.set_xlabel('points')\n",
    "ax3.set_ylabel('magnitude')\n",
    "plt.show()"
   ]
  },
  {
   "attachments": {},
   "cell_type": "markdown",
   "metadata": {},
   "source": [
    "## compute ground-truth CTF (H)"
   ]
  },
  {
   "cell_type": "code",
   "execution_count": null,
   "metadata": {},
   "outputs": [],
   "source": [
    "NWIN = 64\n",
    "NFFT = 64\n",
    "center = False    # True or False\n",
    "hopsize = int(NWIN/2)\n",
    "# L = int(np.floor((points_rir - NWIN)/hopsize)) + 1\n",
    "# NumOfFrame = np.floor((SorLen - NWIN)/hopsize) + 1\n",
    "frequency = int(NFFT/2) + 1\n",
    "freqs_vec_half_fs = fs/2*np.linspace(0, 1, frequency)\n",
    "\n",
    "H = librosa.stft(h, n_fft=NFFT, hop_length=hopsize, win_length=NWIN, window='boxcar', center=center)\n",
    "L  = H.shape[2]"
   ]
  },
  {
   "attachments": {},
   "cell_type": "markdown",
   "metadata": {},
   "source": [
    "## compute source signal for frequency (S)"
   ]
  },
  {
   "cell_type": "code",
   "execution_count": null,
   "metadata": {},
   "outputs": [],
   "source": [
    "S = librosa.stft(source, n_fft=NFFT, hop_length=hopsize, win_length=NWIN, window='hann', center=center)\n",
    "NumOfFrame = S.shape[1]\n",
    "S = torch.from_numpy(S).to(torch.complex64)"
   ]
  },
  {
   "attachments": {},
   "cell_type": "markdown",
   "metadata": {},
   "source": [
    "## RIR mix source 先在時域上處理再做 fft (Y)"
   ]
  },
  {
   "cell_type": "code",
   "execution_count": null,
   "metadata": {},
   "outputs": [],
   "source": [
    "h_conv_source = np.zeros((MicNum, h.shape[1] + source.shape[0] - 1))\n",
    "\n",
    "for i in range(MicNum) :\n",
    "    h_conv_source[i, :] = np.convolve(h[i, :], source)\n",
    "\n",
    "h_conv_source = h_conv_source[:, 0:SorLen] \n",
    "\n",
    "# 加上 white noise 當作 interferer #\n",
    "# SNR = 0\n",
    "# def awgn(x, SNR, seed=7) :\n",
    "#     np.random.seed(seed)\n",
    "#     snr = 10**(SNR/10)\n",
    "#     x_power = np.sum(x**2)/len(x)\n",
    "#     noise_power = x_power/snr\n",
    "#     noise = np.random.randn(len(x))*np.sqrt(noise_power)\n",
    "    \n",
    "#     return x + noise\n",
    "\n",
    "# y = np.zeros((MicNum, SorLen))\n",
    "# for i in range(MicNum) :\n",
    "#    y[i, :] =  awgn(h_conv_source[i, :], SNR)\n",
    "\n",
    "# 不加 white noise #\n",
    "y = h_conv_source\n",
    "\n",
    "Y = librosa.stft(y, n_fft=NFFT, hop_length=hopsize, win_length=NWIN, window='hann', center=center)\n",
    "Y = torch.from_numpy(Y).to(torch.complex64)\n",
    "\n",
    "# 畫 mics received signal frequency plot #\n",
    "fig6 = plt.figure(figsize=(7, 10))\n",
    "ax6_1 = fig6.add_subplot(2, 1, 1)\n",
    "S_underlimit = np.min(librosa.amplitude_to_db(np.abs(S)))\n",
    "S_upperlimit = np.max(librosa.amplitude_to_db(np.abs(S)))\n",
    "img = librosa.display.specshow(librosa.amplitude_to_db(np.abs(S)), sr=fs,  hop_length=hopsize, y_axis='linear', x_axis='frames', ax=ax6_1, cmap=cm.rainbow, vmin=S_underlimit, vmax=S_upperlimit)\n",
    "ax6_1.set_title('S')\n",
    "fig6.colorbar(img, ax=ax6_1, format=\"%+2.0f dB\")\n",
    "\n",
    "ax6_2 = fig6.add_subplot(2, 1, 2)\n",
    "img = librosa.display.specshow(librosa.amplitude_to_db(np.abs(Y[look_mic])), sr=fs,  hop_length=hopsize, y_axis='linear', x_axis='frames', ax=ax6_2, cmap=cm.rainbow, vmin=S_underlimit , vmax=S_upperlimit)\n",
    "ax6_2.set_title('Y')\n",
    "fig6.colorbar(img, ax=ax6_2, format=\"%+2.0f dB\")\n",
    "plt.show()"
   ]
  },
  {
   "attachments": {},
   "cell_type": "markdown",
   "metadata": {},
   "source": [
    "## initial Rss Rsy"
   ]
  },
  {
   "cell_type": "code",
   "execution_count": null,
   "metadata": {},
   "outputs": [],
   "source": [
    "ini_frame = int(np.floor(NumOfFrame/10))\n",
    "\n",
    "# 初始化 Rss #\n",
    "Rss = torch.zeros(L, L, frequency, dtype=torch.complex64).to(device)\n",
    "for FrameNo in range(L-1, ini_frame) :\n",
    "    S_choose = S[:, FrameNo-L+1:FrameNo+1].T.to(device)\n",
    "    for n in range(frequency) :\n",
    "        Rss[:, :, n] = Rss[:, :, n] + torch.mm(torch.flipud(S_choose[:, n]).reshape((L, 1)), torch.flipud(S_choose[:, n]).conj().reshape((1, L)))\n",
    "\n",
    "Rss = Rss/(ini_frame-L+1)\n",
    "\n",
    "# 初始化 Rsy #\n",
    "Rsy = torch.zeros(L, MicNum, frequency, dtype=torch.complex64).to(device)\n",
    "for FrameNo in range(L-1, ini_frame) :\n",
    "    S_choose = S[:, FrameNo-L+1:FrameNo+1].T.to(device)\n",
    "    Y_choose = Y[:, :, FrameNo].to(device)\n",
    "    for n in range(frequency) :\n",
    "        Rsy[:, :, n] = Rsy[:, :, n] + torch.mm(torch.flipud(S_choose[:, n]).reshape((L, 1)), Y_choose[:, n].conj().reshape((1, MicNum)))\n",
    " \n",
    "Rsy = Rsy/(ini_frame-L+1)"
   ]
  },
  {
   "attachments": {},
   "cell_type": "markdown",
   "metadata": {},
   "source": [
    "## 畫圖看初始 A 在頻域的樣子"
   ]
  },
  {
   "cell_type": "code",
   "execution_count": null,
   "metadata": {},
   "outputs": [],
   "source": [
    "A_ini = torch.zeros(MicNum, L, frequency, dtype=torch.complex64).to(device)\n",
    "dia_load_ini = 10**(-10)\n",
    "for n in range(frequency) :\n",
    "    A_ini[:, :, n] = torch.mm(Rsy[:, :, n].conj().T, torch.inverse(Rss[:,:,n] + dia_load_ini*torch.eye(L).to(device)))\n",
    "\n",
    "A_ini_forplot = np.zeros((MicNum, frequency, L), dtype='complex64')\n",
    "for i in range(A_ini.shape[1]) :\n",
    "    A_ini_forplot[:, :, i] = A_ini[:, i, :].cpu()\n",
    "\n",
    "ctf_ini_tdomain = librosa.istft(A_ini_forplot, hop_length=hopsize, win_length=NWIN, n_fft=NFFT, window='boxcar', center=center)\n",
    "\n",
    "# 底下畫圖 #\n",
    "fig8 = plt.figure(figsize=(20, 5))\n",
    "ax8_1 = fig8.add_subplot(1, 2, 1)\n",
    "H_underlimit = np.min(librosa.amplitude_to_db(np.abs(H[look_mic]))) - 5\n",
    "H_upperlimit = np.max(librosa.amplitude_to_db(np.abs(H[look_mic]))) + 5\n",
    "img = librosa.display.specshow(librosa.amplitude_to_db(np.abs(H[look_mic])), sr=fs,  hop_length=hopsize, y_axis='linear', x_axis='frames', \n",
    "                                ax=ax8_1, cmap=cm.rainbow, vmin=H_underlimit , vmax=H_upperlimit)\n",
    "ax8_1.set_title('H')\n",
    "fig8.colorbar(img, ax=ax8_1, format=\"%+2.0f dB\")\n",
    "\n",
    "ax8_2 = fig8.add_subplot(1, 2, 2)\n",
    "img = librosa.display.specshow(librosa.amplitude_to_db(np.abs(A_ini_forplot[look_mic])), sr=fs,  hop_length=hopsize, y_axis='linear', x_axis='frames',\n",
    "                                ax=ax8_2, cmap=cm.rainbow, vmin=H_underlimit , vmax=H_upperlimit)\n",
    "ax8_2.set_title('A_ini')\n",
    "fig8.colorbar(img, ax=ax8_2, format=\"%+2.0f dB\")\n",
    "plt.show()\n",
    "\n",
    "fig10 = plt.figure(figsize=(20, 5))\n",
    "ax10_1 = fig10.add_subplot(1, 2, 1)\n",
    "ax10_1.plot(freqs_vec_half_fs, librosa.amplitude_to_db(np.abs(H[look_mic])))\n",
    "ax10_1.set_ylim((H_underlimit, H_upperlimit))\n",
    "if H[look_mic].shape[1] < 10 :\n",
    "    ax10_1.legend([str(i) for i in range(H[look_mic].shape[1])])\n",
    "ax10_1.set_title('H')\n",
    "ax10_1.set_xlabel('frequency(Hz)')\n",
    "ax10_1.set_ylabel('dB')\n",
    "\n",
    "ax10_2 = fig10.add_subplot(1, 2, 2)\n",
    "ax10_2.plot(freqs_vec_half_fs, librosa.amplitude_to_db(np.abs(A_ini_forplot[look_mic])))\n",
    "ax10_2.set_ylim((H_underlimit, H_upperlimit))\n",
    "if H[look_mic].shape[1] < 10 :\n",
    "    ax10_2.legend([str(i) for i in range(A_ini_forplot[look_mic].shape[1])])\n",
    "ax10_2.set_title('A_ini')\n",
    "ax10_2.set_xlabel('frequency(Hz)')\n",
    "ax10_2.set_ylabel('dB')\n",
    "plt.show()   "
   ]
  },
  {
   "attachments": {},
   "cell_type": "markdown",
   "metadata": {},
   "source": [
    "## 畫圖看初始 A 在時域的樣子 (圖有 adjust max point 但實際沒有)"
   ]
  },
  {
   "cell_type": "code",
   "execution_count": null,
   "metadata": {},
   "outputs": [],
   "source": [
    "# 讓最高點一樣高 #\n",
    "look_mic = 5    # 上面宣告過 可改成其他數字 or default = look_mic\n",
    "h_max = np.max(h[look_mic, :])\n",
    "ctf_ini_tdomain_max = np.max(ctf_ini_tdomain[look_mic, :])\n",
    "ratio = h_max/ctf_ini_tdomain_max\n",
    "\n",
    "# 底下畫圖 #\n",
    "h_yaxis_upperlimit = np.max(h[look_mic]) + 0.025\n",
    "h_yaxis_underlimit = np.min(h[look_mic]) - 0.025\n",
    "\n",
    "fig9 = plt.figure(figsize=(10, 7.5))\n",
    "ax9_1 = fig9.add_subplot(2, 1, 1)\n",
    "ax9_1.plot(h[look_mic, :], 'r')\n",
    "ax9_1.plot(ctf_ini_tdomain[look_mic, :]*ratio, 'b')\n",
    "ax9_1.set_ylim((h_yaxis_underlimit, h_yaxis_upperlimit))\n",
    "ax9_1.set_title('ctf_ini_tdomain')\n",
    "ax9_1.set_xlabel('points')\n",
    "ax9_1.set_ylabel('magnitude')\n",
    "\n",
    "ax9_2 = fig9.add_subplot(2, 1, 2)\n",
    "ax9_2.plot(h[look_mic, :], 'r')\n",
    "ax9_2.set_ylim((h_yaxis_underlimit, h_yaxis_upperlimit))\n",
    "ax9_2.set_title('h')\n",
    "ax9_2.set_xlabel('points')\n",
    "ax9_2.set_ylabel('magnitude')\n",
    "plt.savefig('look_mic='+str(look_mic)+'_NWIN='+str(NWIN)+'_NFFT='+str(NFFT)+'_hopsize='+str(hopsize)+'.png')\n",
    "plt.show()"
   ]
  },
  {
   "attachments": {},
   "cell_type": "markdown",
   "metadata": {},
   "source": [
    "## initial A RAA rAy"
   ]
  },
  {
   "cell_type": "code",
   "execution_count": null,
   "metadata": {},
   "outputs": [],
   "source": [
    "A = torch.zeros(MicNum, L, frequency, dtype=torch.complex64).to(device)\n",
    "RAA = torch.zeros(L, L, frequency, dtype=torch.complex64).to(device)\n",
    "rAy = torch.zeros(L, 1, frequency, dtype=torch.complex64).to(device)"
   ]
  },
  {
   "cell_type": "markdown",
   "metadata": {},
   "source": [
    "## recursive process"
   ]
  },
  {
   "cell_type": "code",
   "execution_count": null,
   "metadata": {},
   "outputs": [],
   "source": [
    "alpha = 0.99\n",
    "beta = 0.99\n",
    "gamma = 0.001\n",
    "delta = 0.001\n",
    "dia_load_A = 10^(-2)\n",
    "dia_load_S_predict = 10^(-2)\n",
    "save_mode = 'front'    # 'front' or 'back'\n",
    "S_predict = torch.zeros(L, 1, frequency, dtype=torch.complex64).to(device)\n",
    "S_save = torch.zeros(frequency, NumOfFrame, dtype=torch.complex64)\n",
    "S_save_L = torch.zeros(frequency, NumOfFrame, dtype=torch.complex64)\n",
    "\n",
    "for FrameNo in range(ini_frame, NumOfFrame) :\n",
    "    for n in range(frequency) :\n",
    "        Y_before = Y[:, n, FrameNo-1].to(device)\n",
    "        Y_now = Y[:, n, FrameNo].to(device)\n",
    "        if FrameNo != ini_frame :\n",
    "            Rss[:, :, n] = alpha*Rss[:, : ,n] + (1 - alpha)*torch.mm(S_predict[:, :, n], S_predict[:, :, n].conj().T)\n",
    "            Rsy[:, :, n] = beta*Rsy[:, :, n] + (1 - beta)*torch.mm(S_predict[:, :, n], Y_before.conj().reshape((1, MicNum)))\n",
    "\n",
    "        # A[:, :, n] = torch.mm(Rsy[:, :, n].conj().T, torch.inverse(Rss[:, :, n] + dia_load_A*torch.eye(L).to(device)))    # A 利用公式算出\n",
    "        for i in range(A.shape[1]) :    # A 給真的RIR\n",
    "            A[:, i, :] = torch.from_numpy(H[:, :, i]).to(device)\n",
    "\n",
    "        RAA[:, :, n] = gamma*RAA[:, :, n] + (1 - gamma)*torch.mm(A[:, :, n].conj().T, A[:, :, n])\n",
    "        rAy[:, :, n] = delta*rAy[:, :, n] + (1 - delta)*torch.mm(A[:, :, n].conj().T, Y_now.reshape((MicNum, 1)))\n",
    "        S_predict[:, :, n] = torch.mm(torch.inverse(RAA[:, :, n] + dia_load_S_predict*torch.eye(L).to(device)), rAy[:, :, n])\n",
    "\n",
    "    if save_mode == 'front' :\n",
    "        # 存最前面的 frame #\n",
    "        S_save[:, FrameNo] = S_predict[0, :, :].cpu()\n",
    "        S_save_L[:, FrameNo] = S_predict[L-1, :, :].cpu()\n",
    "    else :\n",
    "        # 存最後面的 frame #\n",
    "        S_save[:, FrameNo-(L-1)] = S_predict[L-1, :, :].cpu()\n",
    "        if FrameNo == NumOfFrame :\n",
    "            for count in range(L) :\n",
    "                S_save[:, NumOfFrame-count] = S_predict[count, :, :].cpu()\n",
    "\n",
    "    print(f'right now processing frame = {FrameNo}')"
   ]
  },
  {
   "attachments": {},
   "cell_type": "markdown",
   "metadata": {},
   "source": [
    "## 畫圖看最後 A 在時域的樣子"
   ]
  },
  {
   "cell_type": "code",
   "execution_count": null,
   "metadata": {},
   "outputs": [],
   "source": [
    "A_forplot = np.zeros((MicNum, frequency, L), dtype='complex64')\n",
    "for i in range(A.shape[1]) :\n",
    "    A_forplot[:, :, i] = A[:, i, :].cpu()\n",
    "\n",
    "ctf_fin_tdomain = librosa.istft(A_ini_forplot, hop_length=hopsize, win_length=NWIN, n_fft=NFFT, window='boxcar', center=center)\n",
    "\n",
    "look_mic = 5    # 上面宣告過 可改成其他數字 or default = look_mic\n",
    "h_max = np.max(h[look_mic, :])\n",
    "ctf_fin_tdomain_max = np.max(ctf_fin_tdomain[look_mic, :])\n",
    "ratio = h_max/ctf_fin_tdomain_max\n",
    "\n",
    "# 底下畫圖 #\n",
    "h_yaxis_upperlimit = np.max(h[look_mic]) + 0.025\n",
    "h_yaxis_underlimit = np.min(h[look_mic]) - 0.025\n",
    "\n",
    "fig10 = plt.figure(figsize=(10, 7.5))\n",
    "ax10_1 = fig10.add_subplot(2, 1, 1)\n",
    "ax10_1.plot(h[look_mic, :], 'r')\n",
    "ax10_1.plot(ctf_fin_tdomain[look_mic, :]*ratio, 'b')\n",
    "ax10_1.set_ylim((h_yaxis_underlimit, h_yaxis_upperlimit))\n",
    "ax10_1.set_title('ctf_fin_tdomain')\n",
    "ax10_1.set_xlabel('points')\n",
    "ax10_1.set_ylabel('magnitude')\n",
    "\n",
    "ax10_2 = fig10.add_subplot(2, 1, 2)\n",
    "ax10_2.plot(h[look_mic, :], 'r')\n",
    "ax10_2.set_ylim((h_yaxis_underlimit, h_yaxis_upperlimit))\n",
    "ax10_2.set_title('h')\n",
    "ax10_2.set_xlabel('points')\n",
    "ax10_2.set_ylabel('magnitude')\n",
    "plt.show()"
   ]
  }
 ],
 "metadata": {
  "kernelspec": {
   "display_name": "Python 3",
   "language": "python",
   "name": "python3"
  },
  "language_info": {
   "codemirror_mode": {
    "name": "ipython",
    "version": 3
   },
   "file_extension": ".py",
   "mimetype": "text/x-python",
   "name": "python",
   "nbconvert_exporter": "python",
   "pygments_lexer": "ipython3",
   "version": "3.10.10"
  },
  "orig_nbformat": 4
 },
 "nbformat": 4,
 "nbformat_minor": 2
}
